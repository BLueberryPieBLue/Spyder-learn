{
 "cells": [
  {
   "cell_type": "markdown",
   "metadata": {},
   "source": [
    "# Python 环境搭建"
   ]
  },
  {
   "cell_type": "markdown",
   "metadata": {},
   "source": [
    "你可以通过终端窗口输入 \"python\" 命令来查看本地是否已经安装Python以及Python的安装版本。"
   ]
  },
  {
   "cell_type": "markdown",
   "metadata": {},
   "source": [
    "# Python下载"
   ]
  },
  {
   "cell_type": "markdown",
   "metadata": {},
   "source": [
    " Python官网：https://www.python.org/\n",
    " \n",
    " Python文档下载地址：https://www.python.org/doc/"
   ]
  },
  {
   "cell_type": "markdown",
   "metadata": {},
   "source": [
    "# 环境变量"
   ]
  },
  {
   "cell_type": "markdown",
   "metadata": {},
   "source": [
    "环境变量（environment variables）一般是指在操作系统中用来指定操作系统运行环境的一些参数，如：临时文件夹位置和系统文件夹位置等。\n",
    "\n",
    "环境变量是在操作系统中一个具有特定名字的对象，它包含了一个或者多个应用程序所将使用到的信息。例如Windows和DOS操作系统中的path环境变量，当要求系统运行一个程序而没有告诉它程序所在的完整路径时，系统除了在当前目录下面寻找此程序外，还应到path中指定的路径去找。用户通过设置环境变量，来更好的运行进程。\n",
    "\n",
    "https://baike.baidu.com/item/%E7%8E%AF%E5%A2%83%E5%8F%98%E9%87%8F/1730949?fr=aladdin"
   ]
  },
  {
   "cell_type": "markdown",
   "metadata": {},
   "source": [
    "# Anaconda（开源的Python包管理器）"
   ]
  },
  {
   "cell_type": "markdown",
   "metadata": {},
   "source": [
    "Anaconda指的是一个开源的Python发行版本，其包含了conda、Python等180多个科学包及其依赖项。  因为包含了大量的科学包，Anaconda 的下载文件比较大（约 531 MB），如果只需要某些包，或者需要节省带宽或存储空间，也可以使用Miniconda这个较小的发行版（仅包含conda和 Python）。\n",
    "\n",
    "https://baike.baidu.com/item/anaconda/20407441?fr=aladdin\n",
    "\n",
    "下载\n",
    "\n",
    "https://www.anaconda.com/\n",
    "\n",
    "安装\n",
    "\n",
    "https://blog.csdn.net/ITLearnHall/article/details/81708148\n",
    "\n",
    "\n",
    "# Anaconda 换国内源\n",
    "\n",
    "https://blog.csdn.net/observador/article/details/83618540\n",
    "\n",
    "https://www.cnblogs.com/crackpotisback/p/6713289.html\n"
   ]
  },
  {
   "cell_type": "markdown",
   "metadata": {},
   "source": [
    "# Pycharm"
   ]
  },
  {
   "cell_type": "markdown",
   "metadata": {},
   "source": [
    "PyCharm是一种Python IDE，带有一整套可以帮助用户在使用Python语言开发时提高其效率的工具，比如调试、语法高亮、Project管理、代码跳转、智能提示、自动完成、单元测试、版本控制。此外，该IDE提供了一些高级功能，以用于支持Django框架下的专业Web开发。\n",
    "\n",
    "https://baike.baidu.com/item/PyCharm/8143824?fr=aladdin\n",
    "\n",
    "PyCharm 的下载地址：http://www.jetbrains.com/pycharm/download/#section=windows\n",
    "\n",
    "# PyCharm 安装教程（Windows）\n",
    "\n",
    "https://www.runoob.com/w3cnote/pycharm-windows-install.html\n",
    "\n",
    "https://blog.csdn.net/u014256231/article/details/79565216\n",
    "\n",
    "lanyu\n",
    "http://idea.lanyus.com/\n",
    "\n",
    "# PyCharm 快速上手指南\n",
    "\n",
    "https://zhuanlan.zhihu.com/p/26066151\n",
    "\n"
   ]
  },
  {
   "cell_type": "markdown",
   "metadata": {},
   "source": [
    "# jupyter"
   ]
  },
  {
   "cell_type": "markdown",
   "metadata": {},
   "source": [
    "Jupyter Notebook（此前被称为 IPython notebook）是一个交互式笔记本，支持运行 40 多种编程语言。\n",
    "\n",
    "Jupyter Notebook 的本质是一个 Web 应用程序，便于创建和共享文学化程序文档，支持实时代码，数学方程，可视化和 markdown。 用途包括：数据清理和转换，数值模拟，统计建模，机器学习等等\n",
    "\n",
    "https://baike.baidu.com/item/Jupyter/20423051?fr=aladdin\n",
    "\n",
    "https://blog.csdn.net/create115721/article/details/79243641\n",
    "\n",
    "\n",
    "doc\n",
    "\n",
    "https://jupyter-notebook.readthedocs.io/en/stable/\n",
    "\n"
   ]
  }
 ],
 "metadata": {
  "kernelspec": {
   "display_name": "Python 3",
   "language": "python",
   "name": "python3"
  },
  "language_info": {
   "codemirror_mode": {
    "name": "ipython",
    "version": 3
   },
   "file_extension": ".py",
   "mimetype": "text/x-python",
   "name": "python",
   "nbconvert_exporter": "python",
   "pygments_lexer": "ipython3",
   "version": "3.7.1"
  }
 },
 "nbformat": 4,
 "nbformat_minor": 2
}
