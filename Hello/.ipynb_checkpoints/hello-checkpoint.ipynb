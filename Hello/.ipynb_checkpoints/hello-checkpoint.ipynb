{
 "cells": [
  {
   "cell_type": "code",
   "execution_count": 1,
   "metadata": {},
   "outputs": [
    {
     "name": "stdout",
     "output_type": "stream",
     "text": [
      "hello\n"
     ]
    }
   ],
   "source": [
    "print(\"hello\")"
   ]
  },
  {
   "cell_type": "code",
   "execution_count": 3,
   "metadata": {},
   "outputs": [
    {
     "name": "stdout",
     "output_type": "stream",
     "text": [
      " 驱动器 E 中的卷是 Workspaces\n",
      " 卷的序列号是 7BFE-2F71\n",
      "\n",
      " E:\\Jupyter\\Hello 的目录\n",
      "\n",
      "2019/05/08  11:18    <DIR>          .\n",
      "2019/05/08  11:18    <DIR>          ..\n",
      "2019/05/08  11:18    <DIR>          .ipynb_checkpoints\n",
      "2019/05/08  11:18               686 hello.ipynb\n",
      "               1 个文件            686 字节\n",
      "               3 个目录 149,094,793,216 可用字节\n"
     ]
    }
   ],
   "source": [
    "! dir"
   ]
  }
 ],
 "metadata": {
  "kernelspec": {
   "display_name": "Python 3",
   "language": "python",
   "name": "python3"
  },
  "language_info": {
   "codemirror_mode": {
    "name": "ipython",
    "version": 3
   },
   "file_extension": ".py",
   "mimetype": "text/x-python",
   "name": "python",
   "nbconvert_exporter": "python",
   "pygments_lexer": "ipython3",
   "version": "3.7.1"
  }
 },
 "nbformat": 4,
 "nbformat_minor": 2
}
