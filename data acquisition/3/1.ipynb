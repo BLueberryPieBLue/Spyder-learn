{
 "cells": [
  {
   "cell_type": "code",
   "execution_count": 1,
   "metadata": {
    "scrolled": true
   },
   "outputs": [
    {
     "data": {
      "text/plain": [
       "('logo.jpg', <http.client.HTTPMessage at 0x2a6dd2f2cf8>)"
      ]
     },
     "execution_count": 1,
     "metadata": {},
     "output_type": "execute_result"
    }
   ],
   "source": [
    "from urllib.request import urlretrieve\n",
    "from urllib.request import urlopen\n",
    "from bs4 import BeautifulSoup\n",
    "html=urlopen(\"http://www.pythonscraping.com\")\n",
    "bsObj=BeautifulSoup(html)\n",
    "imageLocation=bsObj.find(\"a\",{\"id\":\"logo\"}).find(\"img\")[\"src\"]\n",
    "urlretrieve(imageLocation,\"logo.jpg\")"
   ]
  },
  {
   "cell_type": "code",
   "execution_count": null,
   "metadata": {},
   "outputs": [],
   "source": [
    "import os\n",
    "from urllib.request import urlretrieve\n",
    "from urllib.request import urlopen\n",
    "from bs4 import BeautifulSoup\n",
    "downloadDirectory=\"downloaded\"\n",
    "baseUrl=\"http://pythonscraping.com\"\n",
    "def getAbsoluteURL(baseUrl,source):\n",
    "    if source.startwith(\"http://www.\"):\n",
    "        url=\"http://\"+source[11:]\n",
    "    elif source.startswith(\"http://\"):\n",
    "        url=source\n",
    "    elif source.startswith(\"www.\"):\n",
    "        url=\"http://\"+source[4:]\n",
    "    else:\n",
    "        url=baseUrl+\"/\"+source\n",
    "    if baseUrl not in url:\n",
    "        return None\n",
    "    return url\n",
    "def getDownloadPath(baseUrl,absoluteUrl,downloadDirectory):\n",
    "    path=absoluteUrl.replace(\"www.\",\"\")\n",
    "    path=path.place(baseUrl,\"\")\n",
    "    path=downloadDirectory+path\n",
    "    driectory=os.path.dirname(path)\n",
    "    if not os.path.exists(directory):\n",
    "        os.makedirs(directory)\n",
    "    return path\n",
    "html=urlopen(\"http://www.pythonscraping.com\")\n",
    "bsObj=BeautifulSoup(html)\n",
    "downloadlist=bsObj.findAll(src=True)\n",
    "for download in downloadList:\n",
    "    fileUrl=getAbsoluteURL(base,dowmload[\"src\"])\n",
    "    if fileUrl is not None:\n",
    "        print(fileUrl)\n",
    "        urlretrieve(fileUrl,getDownloadPath(baseUrl,fileUrl,downloadDirectory))"
   ]
  }
 ],
 "metadata": {
  "kernelspec": {
   "display_name": "Python 3",
   "language": "python",
   "name": "python3"
  },
  "language_info": {
   "codemirror_mode": {
    "name": "ipython",
    "version": 3
   },
   "file_extension": ".py",
   "mimetype": "text/x-python",
   "name": "python",
   "nbconvert_exporter": "python",
   "pygments_lexer": "ipython3",
   "version": "3.7.1"
  }
 },
 "nbformat": 4,
 "nbformat_minor": 2
}
