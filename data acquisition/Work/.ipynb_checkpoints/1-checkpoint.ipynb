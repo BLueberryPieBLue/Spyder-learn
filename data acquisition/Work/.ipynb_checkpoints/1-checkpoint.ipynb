{
 "cells": [
  {
   "cell_type": "code",
   "execution_count": null,
   "metadata": {},
   "outputs": [],
   "source": [
    "from urllib.request import urlopen\n",
    "from bs4 import BeautifulSoup\n",
    "url='http://www.mm131.com/xinggan/4953_15.html'\n",
    "html=urlopen(url).read()\n",
    "bs=BeautifulSoup(html,'html.parser')\n",
    "print(bs)"
   ]
  },
  {
   "cell_type": "code",
   "execution_count": null,
   "metadata": {},
   "outputs": [],
   "source": [
    "for link in bs.findAll(\"a\"):\n",
    "    if 'href' in link.attrs:\n",
    "        print(link.attrs['href'])"
   ]
  },
  {
   "cell_type": "code",
   "execution_count": null,
   "metadata": {},
   "outputs": [],
   "source": [
    "for img in bs.findAll(\"img\"):\n",
    "    print(img)"
   ]
  },
  {
   "cell_type": "code",
   "execution_count": null,
   "metadata": {},
   "outputs": [],
   "source": [
    "from selenium import webdriver\n",
    "from selenium.webdriver.chrome.options import Options\n",
    "import time\n",
    "from bs4 import BeautifulSoup\n",
    "\n",
    "chrome_options = Options()\n",
    "chrome_options.add_argument(\"--headless\")\n",
    "driver = webdriver.Chrome(\n",
    "    executable_path='./chromedriver/chromedriver.exe', \n",
    "    options=chrome_options)\n",
    "driver.get(url)\n",
    "time.sleep(3)\n",
    "html=driver.page_source\n",
    "\n",
    "bs=BeautifulSoup(html,'html.parser')\n",
    "# print(bs.prettify())\n",
    "\n",
    "savedCookies = driver.get_cookies()\n",
    "print(savedCookies)\n",
    "\n",
    "driver.close()\n"
   ]
  },
  {
   "cell_type": "code",
   "execution_count": null,
   "metadata": {},
   "outputs": [],
   "source": [
    "import re\n",
    "import requests \n",
    "import random \n",
    "cookie_list=[{'domain': '.mm131.com', 'expiry': 1589637243, 'httpOnly': False, 'name': 'Hm_lvt_9a737a8572f89206db6e9c301695b55a', 'path': '/', 'secure': False, 'value': '1558101244'}, {'domain': '.mm131.com', 'httpOnly': False, 'name': 'Hm_lpvt_9a737a8572f89206db6e9c301695b55a', 'path': '/', 'secure': False, 'value': '1558101244'}, {'domain': 'www.mm131.com', 'expiry': 1652795644, 'httpOnly': False, 'name': 'bdshare_firstime', 'path': '/', 'secure': False, 'value': '1558101244010'}]\n",
    "cookies = \";\".join([item[\"name\"] + \"=\" + item[\"value\"] + \"\" for item in cookie_list])\n",
    "session = requests.Session()\n",
    "# cookie要放到headers里\n",
    "headers = {\n",
    "'Accept': 'text/html,application/xhtml+xml,application/xml;q=0.9,image/webp,image/apng,*/*;q=0.8',\n",
    "'Accept-Encoding': 'gzip, deflate',\n",
    "'Accept-Language': 'zh-CN,zh;q=0.9,en;q=0.8',\n",
    "'Cache-Control': 'max-age=0',\n",
    "'Connection': 'keep-alive',\n",
    "\"Upgrade-Insecure-Requests\": \"1\",\n",
    "'Cookie': cookies,\n",
    "'User-Agent': 'Mozilla/5.0 (Windows NT 10.0; Win64; x64) AppleWebKit/537.36 (KHTML, like Gecko) Chrome/70.0.3538.102 Safari/537.36'\n",
    "}\n",
    "print(headers)\n",
    "for img in bs.findAll(\"img\"):  \n",
    "    addr=img.attrs['src']\n",
    "    print(addr)\n",
    "    try:\n",
    "        pics = session.get(url=addr, headers=headers)\n",
    "    except Exception as e:\n",
    "        print(e)\n",
    "        continue\n",
    "    fq = open('.\\\\photo\\\\' + (str(random.randrange(0,1000,4))+'.jpg'),'wb')     #下载图片，并保存和命名\n",
    "#     print(pics.content)\n",
    "    fq.write(pics.content)\n",
    "    fq.close()\n"
   ]
  }
 ],
 "metadata": {
  "kernelspec": {
   "display_name": "Python 3",
   "language": "python",
   "name": "python3"
  },
  "language_info": {
   "codemirror_mode": {
    "name": "ipython",
    "version": 3
   },
   "file_extension": ".py",
   "mimetype": "text/x-python",
   "name": "python",
   "nbconvert_exporter": "python",
   "pygments_lexer": "ipython3",
   "version": "3.7.1"
  }
 },
 "nbformat": 4,
 "nbformat_minor": 2
}
