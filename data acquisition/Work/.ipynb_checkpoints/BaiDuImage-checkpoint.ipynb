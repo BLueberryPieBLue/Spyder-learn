{
 "cells": [
  {
   "cell_type": "code",
   "execution_count": null,
   "metadata": {},
   "outputs": [],
   "source": [
    "import re #导入正则表达式模块\n",
    "import requests #python HTTP客户端 编写爬虫和测试服务器经常用到的模块\n",
    "import random #随机生成一个数，范围[0,1]\n",
    "\n",
    "#定义函数方法\n",
    "def spiderPic(html,keyword):\n",
    "    print('正在查找 ' + keyword +' 对应的图片,下载中，请稍后......')\n",
    "    for addr in re.findall('\"objURL\":\"(.*?)\"',html,re.S):     #查找URL\n",
    "        print('正在爬取URL地址：'+str(addr))\n",
    "        try:\n",
    "            pics = requests.get(addr,timeout=10)  #请求URL时间（最大10秒）\n",
    "        except requests.exceptions.ConnectionError:\n",
    "            print('您当前请求的URL地址出现错误')\n",
    "            continue\n",
    " \n",
    "        fq = open('.\\\\photo\\\\' + (keyword+'_'+str(random.randrange(0,1000,4))+'.jpg'),'wb')     #下载图片，并保存和命名\n",
    "        fq.write(pics.content)\n",
    "        fq.close()\n",
    "\n",
    "#python的主方法\n",
    "if __name__ == '__main__':\n",
    "    word = input('请输入你要搜索的图片关键字：')\n",
    "    result = requests.get('http://image.baidu.com/search/index?tn=baiduimage&ps=1&ct=201326592&lm=-1&cl=2&nc=1&ie=utf-8&word=' + word)\n",
    "\n",
    "#调用函数\n",
    "spiderPic(result.text,word)"
   ]
  }
 ],
 "metadata": {
  "kernelspec": {
   "display_name": "Python 3",
   "language": "python",
   "name": "python3"
  },
  "language_info": {
   "codemirror_mode": {
    "name": "ipython",
    "version": 3
   },
   "file_extension": ".py",
   "mimetype": "text/x-python",
   "name": "python",
   "nbconvert_exporter": "python",
   "pygments_lexer": "ipython3",
   "version": "3.7.1"
  }
 },
 "nbformat": 4,
 "nbformat_minor": 2
}
