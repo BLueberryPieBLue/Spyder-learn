{
 "cells": [
  {
   "cell_type": "code",
   "execution_count": 1,
   "metadata": {},
   "outputs": [],
   "source": [
    "# https://sou.autohome.com.cn/zonghe?entry=27&page=1&q=%cd%be%b9%dbL\n",
    "import requests\n",
    "import urllib.request\n",
    "from bs4 import BeautifulSoup\n",
    "import time\n",
    "import os\n",
    "def save(imgurl,path):\n",
    "    header = {\"User-Agent\":\"Mozilla/5.0 (Windows NT 6.1; Win64; x64) AppleWebKit/537.36 (KHTML, like Gecko) Chrome/59.0.3071.115 Safari/537.36\"}\n",
    "    data = requests.get(imgurl, headers = header)\n",
    "    Path=path+str(time.time())+imgurl[-5:]\n",
    "    print(Path)\n",
    "    fp = open(Path,'wb')\n",
    "    fp.write(data.content)\n",
    "    fp.close()\n",
    "\n",
    "def select(url,select):\n",
    "    req = urllib.request.Request(url)\n",
    "    req.add_header(\"User-Agent\",\"Mozilla/5.0 (Windows NT 6.1; Win64; x64) AppleWebKit/537.36 (KHTML, like Gecko) Chrome/59.0.3071.115 Safari/537.36\")\n",
    "    html = urllib.request.urlopen(req).read()\n",
    "    soup = BeautifulSoup(html, 'html.parser')\n",
    "    img = soup.select(select)\n",
    "    path=\"./img/\"+str(time.time())+\"/\"\n",
    "    os.mkdir(path)\n",
    "    for i in img:\n",
    "        imgurl=i.get(\"src\")\n",
    "        if imgurl.startswith(\"//\"):\n",
    "            imgurl=\"http:\"+imgurl\n",
    "        print(imgurl)\n",
    "        save(imgurl,path)\n",
    "        "
   ]
  },
  {
   "cell_type": "code",
   "execution_count": 6,
   "metadata": {
    "scrolled": true
   },
   "outputs": [
    {
     "name": "stdout",
     "output_type": "stream",
     "text": [
      "http://x.autoimg.cn/car/images/logonew.png\n",
      "./img/1561385370.7896628/1561385371.018019w.png\n",
      "http://car3.autoimg.cn/cardfs/product/g29/M0B/A1/45/t_autohomecar__ChsEn1xPEjqAOnSmAAaedS2G6zo137.jpg\n",
      "./img/1561385370.7896628/1561385371.29136017.jpg\n",
      "http://car2.autoimg.cn/cardfs/product/g29/M00/A3/D4/t_autohomecar__ChcCSFxPEjmANtJeAAae1ggmpgs595.jpg\n",
      "./img/1561385370.7896628/1561385371.52067575.jpg\n",
      "http://car2.autoimg.cn/cardfs/product/g29/M09/A1/45/t_autohomecar__ChsEn1xPEjmAEH8SAAbAg9_puJE010.jpg\n",
      "./img/1561385370.7896628/1561385371.71216370.jpg\n",
      "http://car2.autoimg.cn/cardfs/product/g29/M03/A8/13/t_autohomecar__ChsEflxPEjiAeDvCAAWWs66Axo8035.jpg\n",
      "./img/1561385370.7896628/1561385371.90282925.jpg\n",
      "http://car2.autoimg.cn/cardfs/product/g29/M00/A8/13/t_autohomecar__ChsEflxPEjeAA1rAAAU6QuioFgE997.jpg\n",
      "./img/1561385370.7896628/1561385372.11508757.jpg\n",
      "http://car2.autoimg.cn/cardfs/product/g29/M00/A3/D4/t_autohomecar__ChcCSFxPEjeAXYraAAYPqduUp7I695.jpg\n",
      "./img/1561385370.7896628/1561385372.31357675.jpg\n",
      "http://car3.autoimg.cn/cardfs/product/g3/M0A/62/B5/t_autohomecar__ChsEm1w7TUiAUi4WAAc0xhPG37U079.jpg\n",
      "./img/1561385370.7896628/1561385373.5432759.jpg\n",
      "http://car3.autoimg.cn/cardfs/product/g26/M06/63/97/t_autohomecar__ChsEnFw7TUeAeAVjAAcBFdeQMkw869.jpg\n",
      "./img/1561385370.7896628/1561385373.75969059.jpg\n",
      "http://car3.autoimg.cn/cardfs/product/g28/M09/68/C7/t_autohomecar__ChsEfVw7TUeAXBLeAAbFeEIm3-s983.jpg\n",
      "./img/1561385370.7896628/1561385373.93422463.jpg\n",
      "http://car2.autoimg.cn/cardfs/product/g26/M04/63/97/t_autohomecar__ChsEnFw7TUaAKrTpAAZv7M1nmFA873.jpg\n",
      "./img/1561385370.7896628/1561385374.16165023.jpg\n",
      "http://car3.autoimg.cn/cardfs/product/g26/M02/63/97/t_autohomecar__ChsEnFw7TUWAUDcEAAa0daC-Y6I962.jpg\n",
      "./img/1561385370.7896628/1561385374.3780392.jpg\n",
      "http://car3.autoimg.cn/cardfs/product/g3/M03/7D/89/t_autohomecar__ChsEkVw7TUSAfVd9AAa-GILuUbs947.jpg\n",
      "./img/1561385370.7896628/1561385374.5796797.jpg\n",
      "http://car2.autoimg.cn/cardfs/product/g29/M04/4F/0F/t_autohomecar__ChcCSFwzX-aAAiU3AAcr0XFSPnU164.jpg\n",
      "./img/1561385370.7896628/1561385374.78495674.jpg\n",
      "http://car3.autoimg.cn/cardfs/product/g1/M05/6D/8F/t_autohomecar__ChsEj1wzX-aAXB-4AAc3ZyYksaM941.jpg\n",
      "./img/1561385370.7896628/1561385375.13900381.jpg\n",
      "http://car3.autoimg.cn/cardfs/product/g1/M03/6F/AF/t_autohomecar__ChsEmVwzX-WAQIrRAAc9SMDT4pQ202.jpg\n",
      "./img/1561385370.7896628/1561385375.34644942.jpg\n",
      "http://car2.autoimg.cn/cardfs/product/g1/M03/6D/8F/t_autohomecar__ChsEj1wzX-SAVOrGAAZmlxl-2Sk086.jpg\n",
      "./img/1561385370.7896628/1561385375.5459286.jpg\n",
      "http://car2.autoimg.cn/cardfs/product/g1/M02/6F/AF/t_autohomecar__ChsEmVwzX-OAbhbKAAaV2K7oshQ740.jpg\n",
      "./img/1561385370.7896628/1561385375.73940060.jpg\n",
      "http://car2.autoimg.cn/cardfs/product/g1/M0A/6F/AF/t_autohomecar__ChsEmVwzX-OALfCYAAaWg5ll0wY586.jpg\n",
      "./img/1561385370.7896628/1561385375.93188386.jpg\n",
      "http://car2.autoimg.cn/cardfs/product/g2/M09/EF/09/t_autohomecar__ChcCRFwi-AqAB7a9AAnjgm4kQE0500.jpg\n",
      "./img/1561385370.7896628/1561385376.1323490.jpg\n",
      "http://car2.autoimg.cn/cardfs/product/g29/M08/06/3D/t_autohomecar__ChsEflwi-AmAFtklAAnt76jJAA0582.jpg\n",
      "./img/1561385370.7896628/1561385376.34281442.jpg\n",
      "http://car3.autoimg.cn/cardfs/product/g2/M0A/EF/09/t_autohomecar__ChcCRFwi-AeABXcuAAv4H9b2Fds628.jpg\n",
      "./img/1561385370.7896628/1561385376.59112728.jpg\n",
      "http://car3.autoimg.cn/cardfs/product/g29/M08/06/3D/t_autohomecar__ChsEflwi-AaAX5BgAAhf7N4oIFY171.jpg\n",
      "./img/1561385370.7896628/1561385376.79856751.jpg\n",
      "http://car2.autoimg.cn/cardfs/product/g2/M0B/07/47/t_autohomecar__ChsEkFwi-AWAK4wWAAgx9TAF7Eo956.jpg\n",
      "./img/1561385370.7896628/1561385377.06196836.jpg\n",
      "http://car3.autoimg.cn/cardfs/product/g2/M06/07/47/t_autohomecar__ChsEkFwi-ASAVxlLAAvlrzDRvvU167.jpg\n",
      "./img/1561385370.7896628/1561385377.31119737.jpg\n",
      "http://car2.autoimg.cn/cardfs/product/g2/M0A/38/4B/t_autohomecar__ChsEmlwi-AKAXSYVAAn5owqEviY358.jpg\n",
      "./img/1561385370.7896628/1561385377.61737878.jpg\n",
      "http://car2.autoimg.cn/cardfs/product/g2/M06/38/4A/t_autohomecar__ChsEmlwi-AGAE8_qAAmN6UzThmI780.jpg\n",
      "./img/1561385370.7896628/1561385377.82283040.jpg\n",
      "http://car2.autoimg.cn/cardfs/product/g3/M07/E5/2B/t_autohomecar__ChsEkVwXRM2AP542AAlmEnt2kyY597.jpg\n",
      "./img/1561385370.7896628/1561385378.0891197.jpg\n",
      "http://car2.autoimg.cn/cardfs/product/g3/M0B/D3/C8/t_autohomecar__ChcCRVwXRMyAJd22AAdHne9P1Js355.jpg\n",
      "./img/1561385370.7896628/1561385378.30754385.jpg\n",
      "http://car3.autoimg.cn/cardfs/product/g3/M05/D3/C8/t_autohomecar__ChcCRVwXRMuAaTHhAAeLJXGehMc129.jpg\n",
      "./img/1561385370.7896628/1561385378.5249539.jpg\n",
      "http://car2.autoimg.cn/cardfs/product/g3/M01/E5/2A/t_autohomecar__ChsEkVwXRMqAS574AAdZ_xgy9w4244.jpg\n",
      "./img/1561385370.7896628/1561385378.72142774.jpg\n",
      "http://car2.autoimg.cn/cardfs/product/g3/M0A/D3/C7/t_autohomecar__ChcCRVwXRMmAFVyHAAdjkgZhg9I240.jpg\n",
      "./img/1561385370.7896628/1561385378.91509940.jpg\n",
      "http://car3.autoimg.cn/cardfs/product/g3/M00/D3/C7/t_autohomecar__ChcCRVwXRMiAAeC9AAc83btZG9I021.jpg\n",
      "./img/1561385370.7896628/1561385379.13133381.jpg\n",
      "http://car2.autoimg.cn/cardfs/product/g3/M0B/D3/C7/t_autohomecar__ChcCRVwXRMeAXTypAAbQG12aCnw008.jpg\n",
      "./img/1561385370.7896628/1561385379.34675938.jpg\n",
      "http://car3.autoimg.cn/cardfs/product/g3/M02/E5/28/t_autohomecar__ChsEkVwXRMaAZaydAAewVnrmc3c590.jpg\n",
      "./img/1561385370.7896628/1561385379.50134420.jpg\n",
      "http://x.autoimg.cn/car/images/loginrb1x.png\n",
      "./img/1561385370.7896628/1561385379.6758769x.png\n"
     ]
    }
   ],
   "source": [
    "url = [\"https://car.autohome.com.cn/pic/series-4274-3280-1-1.html#pvareaid=2042222\"]\n",
    "for i in url:\n",
    "    select(i,\"img\")"
   ]
  },
  {
   "cell_type": "code",
   "execution_count": 7,
   "metadata": {},
   "outputs": [
    {
     "name": "stdout",
     "output_type": "stream",
     "text": [
      "http://x.autoimg.cn/car/images/logonew.png\n",
      "./img/1561385463.34025/1561385463.576628w.png\n",
      "http://car3.autoimg.cn/cardfs/product/g27/M00/B3/ED/t_autohomecar__ChcCQFwPzDmAHg_jAAanthpCk_M637.jpg\n",
      "./img/1561385463.34025/1561385463.8299477.jpg\n",
      "http://car2.autoimg.cn/cardfs/product/g27/M08/B7/B6/t_autohomecar__ChsEfFwPzDiASCZCAAWq2ub0Cf4652.jpg\n",
      "./img/1561385463.34025/1561385464.04436782.jpg\n",
      "http://car2.autoimg.cn/cardfs/product/g27/M00/AF/A6/t_autohomecar__ChsEnVwPzDeAP9BGAAY53dcNvf4124.jpg\n",
      "./img/1561385463.34025/1561385464.29683044.jpg\n",
      "http://car3.autoimg.cn/cardfs/product/g27/M0A/B3/ED/t_autohomecar__ChcCQFwPzDeACeVvAAX2sk4BJ9k986.jpg\n",
      "./img/1561385463.34025/1561385464.49516346.jpg\n",
      "http://car3.autoimg.cn/cardfs/product/g27/M0B/AF/A6/t_autohomecar__ChsEnVwPzDaAK3QYAAZvXm-zWJk904.jpg\n",
      "./img/1561385463.34025/1561385464.7624484.jpg\n",
      "http://car3.autoimg.cn/cardfs/product/g27/M09/B3/ED/t_autohomecar__ChcCQFwPzDWANEwXAAWi_gNb4Ro027.jpg\n",
      "./img/1561385463.34025/1561385464.97589457.jpg\n",
      "http://car3.autoimg.cn/cardfs/product/g27/M09/B3/ED/t_autohomecar__ChcCQFwPzDWABFU9AAYPjZEBWPs835.jpg\n",
      "./img/1561385463.34025/1561385465.16736585.jpg\n",
      "http://x.autoimg.cn/car/images/loginrb1x.png\n",
      "./img/1561385463.34025/1561385465.3618677x.png\n"
     ]
    }
   ],
   "source": [
    "url = [\"https://car.autohome.com.cn/pic/series-4274-3284-1.html#pvareaid=2042220\"]\n",
    "for i in url:\n",
    "    select(i,\"img\")"
   ]
  },
  {
   "cell_type": "code",
   "execution_count": 8,
   "metadata": {},
   "outputs": [
    {
     "name": "stdout",
     "output_type": "stream",
     "text": [
      "http://x.autoimg.cn/car/images/logonew.png\n",
      "./img/1561385495.1572165/1561385495.340716w.png\n",
      "http://car2.autoimg.cn/cardfs/product/g26/M00/41/50/t_autohomecar__ChsEnFyF_WKAdciEAAdjIBYFmto374.jpg\n",
      "./img/1561385495.1572165/1561385495.60501034.jpg\n",
      "http://car2.autoimg.cn/cardfs/product/g30/M05/45/3C/t_autohomecar__ChsEf1yF_WGAFWUlAAZ14e5XRng811.jpg\n",
      "./img/1561385495.1572165/1561385495.8353931.jpg\n",
      "http://car2.autoimg.cn/cardfs/product/g30/M06/46/4B/t_autohomecar__ChcCSVyF_WCACyl0AAeDqw-vlu4990.jpg\n",
      "./img/1561385495.1572165/1561385496.06079220.jpg\n",
      "http://car3.autoimg.cn/cardfs/product/g26/M04/41/4F/t_autohomecar__ChsEnFyF_V-AO1BBAAbsSewWbVk521.jpg\n",
      "./img/1561385495.1572165/1561385496.35302071.jpg\n",
      "http://car2.autoimg.cn/cardfs/product/g30/M0B/46/4A/t_autohomecar__ChcCSVyF_V6AdNMTAAb_qpQtj5k570.jpg\n",
      "./img/1561385495.1572165/1561385496.6163060.jpg\n",
      "http://car2.autoimg.cn/cardfs/product/g30/M02/45/3B/t_autohomecar__ChsEf1yF_V6Abl6_AAc1dFxn8GY912.jpg\n",
      "./img/1561385495.1572165/1561385496.84469652.jpg\n",
      "http://car2.autoimg.cn/cardfs/product/g30/M01/46/49/t_autohomecar__ChcCSVyF_V2AdjZsAAeoZWWVqcs331.jpg\n",
      "./img/1561385495.1572165/1561385497.11397811.jpg\n",
      "http://x.autoimg.cn/car/images/loginrb1x.png\n",
      "./img/1561385495.1572165/1561385497.2615824x.png\n"
     ]
    }
   ],
   "source": [
    "url = [\"https://car.autohome.com.cn/pic/series-4274-3285-1.html#pvareaid=2042220\"]\n",
    "for i in url:\n",
    "    select(i,\"img\")"
   ]
  },
  {
   "cell_type": "code",
   "execution_count": 9,
   "metadata": {
    "scrolled": true
   },
   "outputs": [
    {
     "name": "stdout",
     "output_type": "stream",
     "text": [
      "http://x.autoimg.cn/car/images/logonew.png\n",
      "./img/1561385528.7204947/1561385528.8820665w.png\n",
      "http://car3.autoimg.cn/cardfs/product/g2/M06/1E/7B/t_autohomecar__ChcCRFvsLhOANegtAAds_9RDONg720.jpg\n",
      "./img/1561385528.7204947/1561385529.05959440.jpg\n",
      "http://car2.autoimg.cn/cardfs/product/g26/M09/30/25/t_autohomecar__ChcCP1vsLhSAZfsRAAdw29AT4fA604.jpg\n",
      "./img/1561385528.7204947/1561385529.32787184.jpg\n",
      "http://car3.autoimg.cn/cardfs/product/g26/M08/35/1F/t_autohomecar__ChsEe1vsLhaALgx1AAhYJH6f0X8918.jpg\n",
      "./img/1561385528.7204947/1561385529.52534348.jpg\n",
      "http://car2.autoimg.cn/cardfs/product/g26/M04/2C/9C/t_autohomecar__ChsEnFvsLhGASXnEAAff9XMN6O4456.jpg\n",
      "./img/1561385528.7204947/1561385529.7527366.jpg\n",
      "http://car3.autoimg.cn/cardfs/product/g2/M01/1E/7B/t_autohomecar__ChcCRFvsLg-Aa7M8AAfSiOobWv8003.jpg\n",
      "./img/1561385528.7204947/1561385530.0200223.jpg\n",
      "http://x.autoimg.cn/car/images/loginrb1x.png\n",
      "./img/1561385528.7204947/1561385530.3252113x.png\n"
     ]
    }
   ],
   "source": [
    "url = [\"https://car.autohome.com.cn/pic/series-4274-5461-1.html#pvareaid=2042220\"]\n",
    "for i in url:\n",
    "    select(i,\"img\")"
   ]
  },
  {
   "cell_type": "code",
   "execution_count": 2,
   "metadata": {
    "scrolled": false
   },
   "outputs": [],
   "source": [
    "import requests\n",
    "import urllib.request\n",
    "from bs4 import BeautifulSoup\n",
    "import time\n",
    "import os\n",
    "def save(imgurl,path):\n",
    "    header = {\"User-Agent\":\"Mozilla/5.0 (Windows NT 6.1; Win64; x64) AppleWebKit/537.36 (KHTML, like Gecko) Chrome/59.0.3071.115 Safari/537.36\"}\n",
    "    data = requests.get(imgurl, headers = header)\n",
    "    Path=path+str(time.time())+imgurl[-5:]\n",
    "    print(Path)\n",
    "    fp = open(Path,'wb')\n",
    "    fp.write(data.content)\n",
    "    fp.close()\n",
    "\n",
    "def select(url,select):\n",
    "    req = urllib.request.Request(url)\n",
    "    req.add_header(\"User-Agent\",\"Mozilla/5.0 (Windows NT 6.1; Win64; x64) AppleWebKit/537.36 (KHTML, like Gecko) Chrome/59.0.3071.115 Safari/537.36\")\n",
    "    html = urllib.request.urlopen(req).read()\n",
    "    soup = BeautifulSoup(html, 'html.parser')\n",
    "    img = soup.select(select)\n",
    "    path=\"./img/\"+str(time.time())+\"/\"\n",
    "    os.mkdir(path)\n",
    "    for i in img:\n",
    "        imgurl=i.get(\"src2\")\n",
    "        if imgurl.startswith(\"//\"):\n",
    "            imgurl=\"http:\"+imgurl\n",
    "        print(imgurl)\n",
    "        save(imgurl,path)\n",
    "        "
   ]
  }
 ],
 "metadata": {
  "kernelspec": {
   "display_name": "Python 3",
   "language": "python",
   "name": "python3"
  },
  "language_info": {
   "codemirror_mode": {
    "name": "ipython",
    "version": 3
   },
   "file_extension": ".py",
   "mimetype": "text/x-python",
   "name": "python",
   "nbconvert_exporter": "python",
   "pygments_lexer": "ipython3",
   "version": "3.7.1"
  }
 },
 "nbformat": 4,
 "nbformat_minor": 2
}
